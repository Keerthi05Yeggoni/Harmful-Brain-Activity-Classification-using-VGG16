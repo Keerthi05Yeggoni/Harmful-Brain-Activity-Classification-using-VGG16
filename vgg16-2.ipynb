{
 "cells": [
  {
   "cell_type": "code",
   "execution_count": 1,
   "id": "c1e718ce",
   "metadata": {
    "_cell_guid": "b1076dfc-b9ad-4769-8c92-a6c4dae69d19",
    "_uuid": "8f2839f25d086af736a60e9eeb907d3b93b6e0e5",
    "execution": {
     "iopub.execute_input": "2024-05-08T14:55:27.862483Z",
     "iopub.status.busy": "2024-05-08T14:55:27.862166Z",
     "iopub.status.idle": "2024-05-08T14:55:53.904423Z",
     "shell.execute_reply": "2024-05-08T14:55:53.903440Z"
    },
    "papermill": {
     "duration": 26.052316,
     "end_time": "2024-05-08T14:55:53.907016",
     "exception": false,
     "start_time": "2024-05-08T14:55:27.854700",
     "status": "completed"
    },
    "tags": []
   },
   "outputs": [
    {
     "name": "stderr",
     "output_type": "stream",
     "text": [
      "2024-05-08 14:55:30.357535: E external/local_xla/xla/stream_executor/cuda/cuda_dnn.cc:9261] Unable to register cuDNN factory: Attempting to register factory for plugin cuDNN when one has already been registered\n",
      "2024-05-08 14:55:30.357643: E external/local_xla/xla/stream_executor/cuda/cuda_fft.cc:607] Unable to register cuFFT factory: Attempting to register factory for plugin cuFFT when one has already been registered\n",
      "2024-05-08 14:55:30.481458: E external/local_xla/xla/stream_executor/cuda/cuda_blas.cc:1515] Unable to register cuBLAS factory: Attempting to register factory for plugin cuBLAS when one has already been registered\n"
     ]
    },
    {
     "name": "stdout",
     "output_type": "stream",
     "text": [
      "Collecting keras_applications\r\n",
      "  Downloading Keras_Applications-1.0.8-py3-none-any.whl.metadata (1.7 kB)\r\n",
      "Requirement already satisfied: numpy>=1.9.1 in /opt/conda/lib/python3.10/site-packages (from keras_applications) (1.26.4)\r\n",
      "Requirement already satisfied: h5py in /opt/conda/lib/python3.10/site-packages (from keras_applications) (3.10.0)\r\n",
      "Downloading Keras_Applications-1.0.8-py3-none-any.whl (50 kB)\r\n",
      "\u001b[2K   \u001b[90m━━━━━━━━━━━━━━━━━━━━━━━━━━━━━━━━━━━━━━━━\u001b[0m \u001b[32m50.7/50.7 kB\u001b[0m \u001b[31m2.8 MB/s\u001b[0m eta \u001b[36m0:00:00\u001b[0m\r\n",
      "\u001b[?25hInstalling collected packages: keras_applications\r\n",
      "Successfully installed keras_applications-1.0.8\r\n"
     ]
    }
   ],
   "source": [
    "from __future__ import print_function\n",
    "import numpy as np\n",
    "import warnings\n",
    "import pandas as pd \n",
    "import matplotlib.pyplot as plt\n",
    "import os\n",
    "import keras\n",
    "!pip install keras_applications\n",
    "from keras.models import Model\n",
    "from keras.layers import Flatten\n",
    "from keras.layers import Dense\n",
    "from keras.layers import Input\n",
    "from keras.layers import Conv2D\n",
    "from keras.layers import MaxPooling2D\n",
    "from keras.layers import GlobalMaxPooling2D\n",
    "from keras.layers import GlobalAveragePooling2D\n",
    "from keras.preprocessing import image\n",
    "from tensorflow.keras.utils import get_source_inputs \n",
    "from tensorflow.python.keras.utils import layer_utils \n",
    "from tensorflow.python.keras.utils.data_utils import get_file\n",
    "from keras import backend as K\n",
    "from tensorflow.keras.optimizers import RMSprop\n",
    "\n",
    "from keras.applications.imagenet_utils import decode_predictions\n",
    "from keras.applications.imagenet_utils import preprocess_input\n",
    "from keras_applications.imagenet_utils import _obtain_input_shape\n",
    "from tensorflow.keras.utils import get_source_inputs"
   ]
  },
  {
   "cell_type": "code",
   "execution_count": 2,
   "id": "ce1c30fb",
   "metadata": {
    "execution": {
     "iopub.execute_input": "2024-05-08T14:55:53.922696Z",
     "iopub.status.busy": "2024-05-08T14:55:53.921677Z",
     "iopub.status.idle": "2024-05-08T14:55:53.937787Z",
     "shell.execute_reply": "2024-05-08T14:55:53.936959Z"
    },
    "papermill": {
     "duration": 0.025839,
     "end_time": "2024-05-08T14:55:53.939758",
     "exception": false,
     "start_time": "2024-05-08T14:55:53.913919",
     "status": "completed"
    },
    "tags": []
   },
   "outputs": [],
   "source": [
    "def VGGupdated(input_tensor=None,classes=6):    \n",
    "   \n",
    "    img_rows, img_cols = 150, 150   # by default size is 224,224\n",
    "    img_channels = 3\n",
    "\n",
    "    img_dim = (img_rows, img_cols, img_channels)\n",
    "   \n",
    "    img_input = Input(shape=img_dim)\n",
    "    \n",
    "    # Block 1\n",
    "    x = Conv2D(64, (3, 3), activation='relu', padding='same', name='block1_conv1')(img_input)\n",
    "    x = Conv2D(64, (3, 3), activation='relu', padding='same', name='block1_conv2')(x)\n",
    "    x = MaxPooling2D((2, 2), strides=(2, 2), name='block1_pool')(x)\n",
    "\n",
    "    # Block 2\n",
    "    x = Conv2D(128, (3, 3), activation='relu', padding='same', name='block2_conv1')(x)\n",
    "    x = Conv2D(128, (3, 3), activation='relu', padding='same', name='block2_conv2')(x)\n",
    "    x = MaxPooling2D((2, 2), strides=(2, 2), name='block2_pool')(x)\n",
    "\n",
    " # Block 3\n",
    "    x = Conv2D(256, (3, 3), activation='relu', padding='same', name='block3_conv1')(x)\n",
    "    x = Conv2D(256, (3, 3), activation='relu', padding='same', name='block3_conv2')(x)\n",
    "    x = Conv2D(256, (3, 3), activation='relu', padding='same', name='block3_conv3')(x)\n",
    "    x = MaxPooling2D((2, 2), strides=(2, 2), name='block3_pool')(x)\n",
    "\n",
    "    # Block 4\n",
    "    x = Conv2D(512, (3, 3), activation='relu', padding='same', name='block4_conv1')(x)\n",
    "    x = Conv2D(512, (3, 3), activation='relu', padding='same', name='block4_conv2')(x)\n",
    "    x = Conv2D(512, (3, 3), activation='relu', padding='same', name='block4_conv3')(x)\n",
    "    x = MaxPooling2D((2, 2), strides=(2, 2), name='block4_pool')(x)\n",
    "\n",
    "    # Block 5\n",
    "    x = Conv2D(512, (3, 3), activation='relu', padding='same', name='block5_conv1')(x)\n",
    "    x = Conv2D(512, (3, 3), activation='relu', padding='same', name='block5_conv2')(x)\n",
    "    x = Conv2D(512, (3, 3), activation='relu', padding='same', name='block5_conv3')(x)\n",
    "    x = MaxPooling2D((2, 2), strides=(2, 2), name='block5_pool')(x)\n",
    "\n",
    "    \n",
    "    # Classification block\n",
    "    x = Flatten(name='flatten')(x)\n",
    "    x = Dense(4096, activation='relu', name='fc1')(x)\n",
    "    x = Dense(4096, activation='relu', name='fc2')(x)\n",
    "    x = Dense(classes, activation='softmax', name='predictions')(x)\n",
    "    \n",
    "     # Create model.\n",
    "   \n",
    "     \n",
    "    model = Model(inputs = img_input, outputs = x, name='VGGdemo')\n",
    "\n",
    "\n",
    "    return model"
   ]
  },
  {
   "cell_type": "code",
   "execution_count": 3,
   "id": "d8139c11",
   "metadata": {
    "execution": {
     "iopub.execute_input": "2024-05-08T14:55:53.953272Z",
     "iopub.status.busy": "2024-05-08T14:55:53.953020Z",
     "iopub.status.idle": "2024-05-08T14:55:54.759639Z",
     "shell.execute_reply": "2024-05-08T14:55:54.758828Z"
    },
    "papermill": {
     "duration": 0.815829,
     "end_time": "2024-05-08T14:55:54.761854",
     "exception": false,
     "start_time": "2024-05-08T14:55:53.946025",
     "status": "completed"
    },
    "tags": []
   },
   "outputs": [],
   "source": [
    "model = VGGupdated(classes = 2) \n",
    "model.compile(optimizer=\"adam\", loss='categorical_crossentropy', metrics=['accuracy'])"
   ]
  },
  {
   "cell_type": "code",
   "execution_count": 4,
   "id": "e90d5ce1",
   "metadata": {
    "execution": {
     "iopub.execute_input": "2024-05-08T14:55:54.800511Z",
     "iopub.status.busy": "2024-05-08T14:55:54.799811Z",
     "iopub.status.idle": "2024-05-08T14:55:55.055908Z",
     "shell.execute_reply": "2024-05-08T14:55:55.054978Z"
    },
    "papermill": {
     "duration": 0.266012,
     "end_time": "2024-05-08T14:55:55.058495",
     "exception": false,
     "start_time": "2024-05-08T14:55:54.792483",
     "status": "completed"
    },
    "tags": []
   },
   "outputs": [
    {
     "ename": "NameError",
     "evalue": "name 'pd' is not defined",
     "output_type": "error",
     "traceback": [
      "\u001b[1;31m---------------------------------------------------------------------------\u001b[0m",
      "\u001b[1;31mNameError\u001b[0m                                 Traceback (most recent call last)",
      "Cell \u001b[1;32mIn[4], line 1\u001b[0m\n\u001b[1;32m----> 1\u001b[0m df \u001b[38;5;241m=\u001b[39m \u001b[43mpd\u001b[49m\u001b[38;5;241m.\u001b[39mread_csv(\u001b[38;5;124m\"\u001b[39m\u001b[38;5;124m/train.csv\u001b[39m\u001b[38;5;124m\"\u001b[39m)\n",
      "\u001b[1;31mNameError\u001b[0m: name 'pd' is not defined"
     ]
    }
   ],
   "source": [
    "df = pd.read_csv(\"/train.csv\")"
   ]
  },
  {
   "cell_type": "code",
   "execution_count": 6,
   "id": "ba1eab75",
   "metadata": {
    "execution": {
     "iopub.execute_input": "2024-05-08T14:55:55.074270Z",
     "iopub.status.busy": "2024-05-08T14:55:55.073458Z",
     "iopub.status.idle": "2024-05-08T14:55:55.102838Z",
     "shell.execute_reply": "2024-05-08T14:55:55.101775Z"
    },
    "papermill": {
     "duration": 0.039253,
     "end_time": "2024-05-08T14:55:55.104767",
     "exception": false,
     "start_time": "2024-05-08T14:55:55.065514",
     "status": "completed"
    },
    "tags": []
   },
   "outputs": [
    {
     "name": "stdout",
     "output_type": "stream",
     "text": [
      "Total number of data in the dataset:  106800\n",
      "expert_consensus data in each category: \n",
      "expert_consensus\n",
      "Seizure    20933\n",
      "GRDA       18861\n",
      "Other      18808\n",
      "GPD        16702\n",
      "LRDA       16640\n",
      "LPD        14856\n",
      "Name: count, dtype: int64\n"
     ]
    }
   ],
   "source": [
    "# Let's check how many samples for each category are present\n",
    "print(\"Total number of data in the dataset: \", len(df))\n",
    "\n",
    "data_count = df['expert_consensus'].value_counts()\n",
    "\n",
    "print(\"expert_consensus data in each category: \")\n",
    "print(data_count)"
   ]
  },
  {
   "cell_type": "code",
   "execution_count": 1,
   "id": "c5106f22",
   "metadata": {
    "execution": {
     "iopub.execute_input": "2024-05-08T14:55:55.119194Z",
     "iopub.status.busy": "2024-05-08T14:55:55.118659Z",
     "iopub.status.idle": "2024-05-08T14:55:55.138620Z",
     "shell.execute_reply": "2024-05-08T14:55:55.137558Z"
    },
    "papermill": {
     "duration": 0.029367,
     "end_time": "2024-05-08T14:55:55.140468",
     "exception": false,
     "start_time": "2024-05-08T14:55:55.111101",
     "status": "completed"
    },
    "tags": []
   },
   "outputs": [
    {
     "ename": "NameError",
     "evalue": "name 'df' is not defined",
     "output_type": "error",
     "traceback": [
      "\u001b[1;31m---------------------------------------------------------------------------\u001b[0m",
      "\u001b[1;31mNameError\u001b[0m                                 Traceback (most recent call last)",
      "Cell \u001b[1;32mIn[1], line 1\u001b[0m\n\u001b[1;32m----> 1\u001b[0m df \u001b[38;5;241m=\u001b[39m \u001b[43mdf\u001b[49m\u001b[38;5;241m.\u001b[39mdrop(columns\u001b[38;5;241m=\u001b[39m[\u001b[38;5;124m'\u001b[39m\u001b[38;5;124meeg_sub_id\u001b[39m\u001b[38;5;124m'\u001b[39m, \u001b[38;5;124m'\u001b[39m\u001b[38;5;124meeg_label_offset_seconds\u001b[39m\u001b[38;5;124m'\u001b[39m, \u001b[38;5;124m\"\u001b[39m\u001b[38;5;124mspectrogram_sub_id\u001b[39m\u001b[38;5;124m\"\u001b[39m, \u001b[38;5;124m\"\u001b[39m\u001b[38;5;124mspectrogram_label_offset_seconds\u001b[39m\u001b[38;5;124m\"\u001b[39m,\u001b[38;5;124m\"\u001b[39m\u001b[38;5;124mlabel_id\u001b[39m\u001b[38;5;124m\"\u001b[39m,])\n\u001b[0;32m      2\u001b[0m df\u001b[38;5;241m=\u001b[39mdf\u001b[38;5;241m.\u001b[39mdrop_duplicates(subset\u001b[38;5;241m=\u001b[39m(\u001b[38;5;124m\"\u001b[39m\u001b[38;5;124mspectrogram_id\u001b[39m\u001b[38;5;124m\"\u001b[39m))\n\u001b[0;32m      3\u001b[0m data_count \u001b[38;5;241m=\u001b[39m df[\u001b[38;5;124m'\u001b[39m\u001b[38;5;124mexpert_consensus\u001b[39m\u001b[38;5;124m'\u001b[39m]\u001b[38;5;241m.\u001b[39mvalue_counts()\n",
      "\u001b[1;31mNameError\u001b[0m: name 'df' is not defined"
     ]
    }
   ],
   "source": [
    "df = df.drop(columns=['eeg_sub_id', 'eeg_label_offset_seconds', \"spectrogram_sub_id\", \"spectrogram_label_offset_seconds\",\"label_id\",])\n",
    "df=df.drop_duplicates(subset=(\"spectrogram_id\"))\n",
    "data_count = df['expert_consensus'].value_counts()\n",
    "\n",
    "print(\"expert_consensus data in each category: \")\n",
    "print(data_count)"
   ]
  },
  {
   "cell_type": "code",
   "execution_count": 8,
   "id": "f080d982",
   "metadata": {
    "execution": {
     "iopub.execute_input": "2024-05-08T14:55:55.154484Z",
     "iopub.status.busy": "2024-05-08T14:55:55.154187Z",
     "iopub.status.idle": "2024-05-08T14:55:55.170036Z",
     "shell.execute_reply": "2024-05-08T14:55:55.169334Z"
    },
    "papermill": {
     "duration": 0.024932,
     "end_time": "2024-05-08T14:55:55.171907",
     "exception": false,
     "start_time": "2024-05-08T14:55:55.146975",
     "status": "completed"
    },
    "tags": []
   },
   "outputs": [],
   "source": [
    "df.replace({'GRDA':'NO'}, inplace=True)\n",
    "df.replace({'Other':'NO'}, inplace=True)\n",
    "df.replace({'GPD':'NO'}, inplace=True)\n",
    "df.replace({'LRDA':'NO'}, inplace=True)\n",
    "df.replace({'LPD':'NO'}, inplace=True)"
   ]
  },
  {
   "cell_type": "code",
   "execution_count": 9,
   "id": "59056bbe",
   "metadata": {
    "execution": {
     "iopub.execute_input": "2024-05-08T14:55:55.186040Z",
     "iopub.status.busy": "2024-05-08T14:55:55.185400Z",
     "iopub.status.idle": "2024-05-08T14:55:56.066007Z",
     "shell.execute_reply": "2024-05-08T14:55:56.064949Z"
    },
    "papermill": {
     "duration": 0.889894,
     "end_time": "2024-05-08T14:55:56.068145",
     "exception": false,
     "start_time": "2024-05-08T14:55:55.178251",
     "status": "completed"
    },
    "tags": []
   },
   "outputs": [
    {
     "name": "stdout",
     "output_type": "stream",
     "text": [
      "[1 0 0 ... 0 0 0]\n"
     ]
    }
   ],
   "source": [
    "from sklearn.preprocessing import LabelEncoder , OneHotEncoder\n",
    "y = df['expert_consensus'].values\n",
    "\n",
    "y_labelencoder = LabelEncoder ()\n",
    "y = y_labelencoder.fit_transform (y)\n",
    "print (y)"
   ]
  },
  {
   "cell_type": "code",
   "execution_count": 10,
   "id": "760df8a8",
   "metadata": {
    "execution": {
     "iopub.execute_input": "2024-05-08T14:55:56.082956Z",
     "iopub.status.busy": "2024-05-08T14:55:56.082694Z",
     "iopub.status.idle": "2024-05-08T14:55:56.092906Z",
     "shell.execute_reply": "2024-05-08T14:55:56.091963Z"
    },
    "papermill": {
     "duration": 0.019645,
     "end_time": "2024-05-08T14:55:56.094804",
     "exception": false,
     "start_time": "2024-05-08T14:55:56.075159",
     "status": "completed"
    },
    "tags": []
   },
   "outputs": [
    {
     "name": "stdout",
     "output_type": "stream",
     "text": [
      "(11138, 2)\n"
     ]
    }
   ],
   "source": [
    "# Assuming y is our target variable as a 1D array or DataFrame column\n",
    "y = y.reshape(-1, 1)  # Reshape to column vector \n",
    "# Create OneHotEncoder object with specified categories\n",
    "onehotencoder = OneHotEncoder(categories='auto')  # 'auto' automatically determines categories\n",
    "Y = onehotencoder.fit_transform(y).toarray()\n",
    "print(Y.shape)  # This should print the shape of the one-hot encoded output\n"
   ]
  },
  {
   "cell_type": "code",
   "execution_count": 11,
   "id": "50fa11de",
   "metadata": {
    "execution": {
     "iopub.execute_input": "2024-05-08T14:55:56.109830Z",
     "iopub.status.busy": "2024-05-08T14:55:56.109528Z",
     "iopub.status.idle": "2024-05-08T14:55:56.244066Z",
     "shell.execute_reply": "2024-05-08T14:55:56.243292Z"
    },
    "papermill": {
     "duration": 0.144169,
     "end_time": "2024-05-08T14:55:56.246333",
     "exception": false,
     "start_time": "2024-05-08T14:55:56.102164",
     "status": "completed"
    },
    "tags": []
   },
   "outputs": [],
   "source": [
    "# Load spectrogram data from Parquet file\n",
    "ecg_spectrogram = pd.read_parquet(PATH+'/train_spectrograms/353733.parquet')"
   ]
  },
  {
   "cell_type": "code",
   "execution_count": 12,
   "id": "c2766c9e",
   "metadata": {
    "execution": {
     "iopub.execute_input": "2024-05-08T14:55:56.261214Z",
     "iopub.status.busy": "2024-05-08T14:55:56.260946Z",
     "iopub.status.idle": "2024-05-08T14:55:56.450966Z",
     "shell.execute_reply": "2024-05-08T14:55:56.450013Z"
    },
    "papermill": {
     "duration": 0.199723,
     "end_time": "2024-05-08T14:55:56.453077",
     "exception": false,
     "start_time": "2024-05-08T14:55:56.253354",
     "status": "completed"
    },
    "tags": []
   },
   "outputs": [
    {
     "name": "stdout",
     "output_type": "stream",
     "text": [
      "(150, 150, 3)\n"
     ]
    }
   ],
   "source": [
    "import cv2\n",
    "from tensorflow.keras.preprocessing.image import img_to_array, array_to_img\n",
    "from tensorflow.keras.applications.vgg16 import preprocess_input\n",
    "\n",
    "# Resizing and Preprocessing Spectrogram Images\n",
    "def preprocess_spectrogram(spectrogram, target_size=(150, 150)):\n",
    "    # Normalizing spectrogram data to [0, 255] range \n",
    "    if spectrogram.dtype == np.float64:\n",
    "        spectrogram = (spectrogram - spectrogram.min()) / (spectrogram.max() - spectrogram.min()) * 255.0\n",
    "        spectrogram = spectrogram.astype(np.uint8)\n",
    "\n",
    "    # Resize spectrogram to target size using OpenCV\n",
    "    resized_spectrogram = cv2.resize(spectrogram, target_size)\n",
    "    # Convert to RGB image (3 channels)\n",
    "    rgb_spectrogram = cv2.cvtColor(resized_spectrogram, cv2.COLOR_GRAY2RGB)\n",
    "    # Convert to array and preprocess according to VGG-16 requirements\n",
    "    preprocessed_spectrogram = img_to_array(rgb_spectrogram)\n",
    "    preprocessed_spectrogram = preprocess_input(preprocessed_spectrogram)\n",
    "    return preprocessed_spectrogram\n",
    "\n",
    "# Preprocess first spectrogram in the DataFrame\n",
    "first_spectrogram = ecg_spectrogram.iloc[0, :].values  #each row represents a spectrogram\n",
    "preprocessed_spectrogram = preprocess_spectrogram(first_spectrogram)\n",
    "print(preprocessed_spectrogram.shape)"
   ]
  },
  {
   "cell_type": "code",
   "execution_count": 13,
   "id": "7a2d07eb",
   "metadata": {
    "execution": {
     "iopub.execute_input": "2024-05-08T14:55:56.468119Z",
     "iopub.status.busy": "2024-05-08T14:55:56.467526Z",
     "iopub.status.idle": "2024-05-08T15:04:15.622871Z",
     "shell.execute_reply": "2024-05-08T15:04:15.621826Z"
    },
    "papermill": {
     "duration": 499.165604,
     "end_time": "2024-05-08T15:04:15.625553",
     "exception": false,
     "start_time": "2024-05-08T14:55:56.459949",
     "status": "completed"
    },
    "tags": []
   },
   "outputs": [],
   "source": [
    "import os\n",
    "path='/kaggle/input/hms-harmful-brain-activity-classification/train_spectrograms/'\n",
    "images=[]\n",
    "# Ignore all the warnings temporarily\n",
    "with warnings.catch_warnings():\n",
    "    warnings.simplefilter(\"ignore\")\n",
    "    for f in os.listdir(path):\n",
    "        file_path=path+f\n",
    "        df = pd.read_parquet(file_path)\n",
    "        first_spectrogram = df.iloc[0, :].values  # Assuming each row represents a spectrogram\n",
    "        preprocessed_spectrogram = preprocess_spectrogram(first_spectrogram)\n",
    "        images.append(preprocessed_spectrogram)"
   ]
  },
  {
   "cell_type": "code",
   "execution_count": 14,
   "id": "94f96303",
   "metadata": {
    "execution": {
     "iopub.execute_input": "2024-05-08T15:04:15.641451Z",
     "iopub.status.busy": "2024-05-08T15:04:15.640812Z",
     "iopub.status.idle": "2024-05-08T15:04:18.336692Z",
     "shell.execute_reply": "2024-05-08T15:04:18.335801Z"
    },
    "papermill": {
     "duration": 2.705637,
     "end_time": "2024-05-08T15:04:18.338672",
     "exception": false,
     "start_time": "2024-05-08T15:04:15.633035",
     "status": "completed"
    },
    "tags": []
   },
   "outputs": [
    {
     "data": {
      "text/plain": [
       "(11138, 150, 150, 3)"
      ]
     },
     "execution_count": 14,
     "metadata": {},
     "output_type": "execute_result"
    }
   ],
   "source": [
    "images = np.array(images)\n",
    "images.shape"
   ]
  },
  {
   "cell_type": "code",
   "execution_count": 15,
   "id": "429d13cf",
   "metadata": {
    "execution": {
     "iopub.execute_input": "2024-05-08T15:04:18.354013Z",
     "iopub.status.busy": "2024-05-08T15:04:18.353731Z",
     "iopub.status.idle": "2024-05-08T15:04:19.966542Z",
     "shell.execute_reply": "2024-05-08T15:04:19.965351Z"
    },
    "papermill": {
     "duration": 1.622814,
     "end_time": "2024-05-08T15:04:19.968725",
     "exception": false,
     "start_time": "2024-05-08T15:04:18.345911",
     "status": "completed"
    },
    "tags": []
   },
   "outputs": [
    {
     "name": "stdout",
     "output_type": "stream",
     "text": [
      "(8910, 150, 150, 3)\n",
      "(8910, 2)\n",
      "(2228, 150, 150, 3)\n",
      "(2228, 2)\n"
     ]
    }
   ],
   "source": [
    "from sklearn.utils import shuffle\n",
    "from sklearn.model_selection import train_test_split\n",
    "\n",
    "\n",
    "images, Y = shuffle(images, Y, random_state=1)\n",
    "\n",
    "train_x, test_x, train_y, test_y = train_test_split(images, Y, test_size=0.2, random_state=42)\n",
    "\n",
    "#inspect the shape of the training and testing.\n",
    "print(train_x.shape)\n",
    "print(train_y.shape)\n",
    "print(test_x.shape)\n",
    "print(test_y.shape)"
   ]
  },
  {
   "cell_type": "code",
   "execution_count": 16,
   "id": "b2df5ef0",
   "metadata": {
    "execution": {
     "iopub.execute_input": "2024-05-08T15:04:19.984288Z",
     "iopub.status.busy": "2024-05-08T15:04:19.983974Z",
     "iopub.status.idle": "2024-05-08T15:53:54.631983Z",
     "shell.execute_reply": "2024-05-08T15:53:54.631090Z"
    },
    "papermill": {
     "duration": 2974.658352,
     "end_time": "2024-05-08T15:53:54.634313",
     "exception": false,
     "start_time": "2024-05-08T15:04:19.975961",
     "status": "completed"
    },
    "tags": []
   },
   "outputs": [
    {
     "name": "stdout",
     "output_type": "stream",
     "text": [
      "Epoch 1/100\n"
     ]
    },
    {
     "name": "stderr",
     "output_type": "stream",
     "text": [
      "2024-05-08 15:04:30.091564: E external/local_xla/xla/service/gpu/buffer_comparator.cc:1137] Difference at 0: 4.18794, expected 3.54228\n",
      "2024-05-08 15:04:30.091664: E external/local_xla/xla/service/gpu/buffer_comparator.cc:1137] Difference at 3: 5.14647, expected 4.50081\n",
      "2024-05-08 15:04:30.091674: E external/local_xla/xla/service/gpu/buffer_comparator.cc:1137] Difference at 8: 5.30074, expected 4.65509\n",
      "2024-05-08 15:04:30.091683: E external/local_xla/xla/service/gpu/buffer_comparator.cc:1137] Difference at 9: 4.91575, expected 4.27009\n",
      "2024-05-08 15:04:30.091691: E external/local_xla/xla/service/gpu/buffer_comparator.cc:1137] Difference at 10: 3.57367, expected 2.92801\n",
      "2024-05-08 15:04:30.091699: E external/local_xla/xla/service/gpu/buffer_comparator.cc:1137] Difference at 11: 4.05899, expected 3.41334\n",
      "2024-05-08 15:04:30.091707: E external/local_xla/xla/service/gpu/buffer_comparator.cc:1137] Difference at 12: 5.27592, expected 4.63026\n",
      "2024-05-08 15:04:30.091716: E external/local_xla/xla/service/gpu/buffer_comparator.cc:1137] Difference at 13: 5.03114, expected 4.38548\n",
      "2024-05-08 15:04:30.091724: E external/local_xla/xla/service/gpu/buffer_comparator.cc:1137] Difference at 14: 4.80756, expected 4.16191\n",
      "2024-05-08 15:04:30.091732: E external/local_xla/xla/service/gpu/buffer_comparator.cc:1137] Difference at 25: 4.55992, expected 3.91426\n",
      "2024-05-08 15:04:30.112181: E external/local_xla/xla/service/gpu/conv_algorithm_picker.cc:705] Results mismatch between different convolution algorithms. This is likely a bug/unexpected loss of precision in cudnn.\n",
      "(f32[32,64,150,150]{3,2,1,0}, u8[0]{0}) custom-call(f32[32,3,150,150]{3,2,1,0}, f32[64,3,3,3]{3,2,1,0}, f32[64]{0}), window={size=3x3 pad=1_1x1_1}, dim_labels=bf01_oi01->bf01, custom_call_target=\"__cudnn$convBiasActivationForward\", backend_config={\"conv_result_scale\":1,\"activation_mode\":\"kRelu\",\"side_input_scale\":0,\"leakyrelu_alpha\":0} for eng20{k2=1,k4=1,k5=1,k6=0,k7=0} vs eng15{k5=1,k6=0,k7=1,k10=1}\n",
      "2024-05-08 15:04:30.112225: E external/local_xla/xla/service/gpu/conv_algorithm_picker.cc:270] Device: Tesla P100-PCIE-16GB\n",
      "2024-05-08 15:04:30.112235: E external/local_xla/xla/service/gpu/conv_algorithm_picker.cc:271] Platform: Compute Capability 6.0\n",
      "2024-05-08 15:04:30.112254: E external/local_xla/xla/service/gpu/conv_algorithm_picker.cc:272] Driver: 12020 (535.129.3)\n",
      "2024-05-08 15:04:30.112262: E external/local_xla/xla/service/gpu/conv_algorithm_picker.cc:273] Runtime: <undefined>\n",
      "2024-05-08 15:04:30.112278: E external/local_xla/xla/service/gpu/conv_algorithm_picker.cc:280] cudnn version: 8.9.0\n",
      "2024-05-08 15:04:30.773910: E external/local_xla/xla/service/gpu/buffer_comparator.cc:1137] Difference at 0: 4.18794, expected 3.54228\n",
      "2024-05-08 15:04:30.773975: E external/local_xla/xla/service/gpu/buffer_comparator.cc:1137] Difference at 3: 5.14647, expected 4.50081\n",
      "2024-05-08 15:04:30.773985: E external/local_xla/xla/service/gpu/buffer_comparator.cc:1137] Difference at 8: 5.30074, expected 4.65509\n",
      "2024-05-08 15:04:30.773993: E external/local_xla/xla/service/gpu/buffer_comparator.cc:1137] Difference at 9: 4.91575, expected 4.27009\n",
      "2024-05-08 15:04:30.774000: E external/local_xla/xla/service/gpu/buffer_comparator.cc:1137] Difference at 10: 3.57367, expected 2.92801\n",
      "2024-05-08 15:04:30.774008: E external/local_xla/xla/service/gpu/buffer_comparator.cc:1137] Difference at 11: 4.05899, expected 3.41334\n",
      "2024-05-08 15:04:30.774016: E external/local_xla/xla/service/gpu/buffer_comparator.cc:1137] Difference at 12: 5.27592, expected 4.63026\n",
      "2024-05-08 15:04:30.774024: E external/local_xla/xla/service/gpu/buffer_comparator.cc:1137] Difference at 13: 5.03114, expected 4.38548\n",
      "2024-05-08 15:04:30.774031: E external/local_xla/xla/service/gpu/buffer_comparator.cc:1137] Difference at 14: 4.80756, expected 4.16191\n",
      "2024-05-08 15:04:30.774039: E external/local_xla/xla/service/gpu/buffer_comparator.cc:1137] Difference at 25: 4.55992, expected 3.91426\n",
      "2024-05-08 15:04:30.794304: E external/local_xla/xla/service/gpu/conv_algorithm_picker.cc:705] Results mismatch between different convolution algorithms. This is likely a bug/unexpected loss of precision in cudnn.\n",
      "(f32[32,64,150,150]{3,2,1,0}, u8[0]{0}) custom-call(f32[32,3,150,150]{3,2,1,0}, f32[64,3,3,3]{3,2,1,0}, f32[64]{0}), window={size=3x3 pad=1_1x1_1}, dim_labels=bf01_oi01->bf01, custom_call_target=\"__cudnn$convBiasActivationForward\", backend_config={\"conv_result_scale\":1,\"activation_mode\":\"kRelu\",\"side_input_scale\":0,\"leakyrelu_alpha\":0} for eng20{k2=1,k4=1,k5=1,k6=0,k7=0} vs eng15{k5=1,k6=0,k7=1,k10=1}\n",
      "2024-05-08 15:04:30.794344: E external/local_xla/xla/service/gpu/conv_algorithm_picker.cc:270] Device: Tesla P100-PCIE-16GB\n",
      "2024-05-08 15:04:30.794353: E external/local_xla/xla/service/gpu/conv_algorithm_picker.cc:271] Platform: Compute Capability 6.0\n",
      "2024-05-08 15:04:30.794360: E external/local_xla/xla/service/gpu/conv_algorithm_picker.cc:272] Driver: 12020 (535.129.3)\n",
      "2024-05-08 15:04:30.794367: E external/local_xla/xla/service/gpu/conv_algorithm_picker.cc:273] Runtime: <undefined>\n",
      "2024-05-08 15:04:30.794383: E external/local_xla/xla/service/gpu/conv_algorithm_picker.cc:280] cudnn version: 8.9.0\n",
      "WARNING: All log messages before absl::InitializeLog() is called are written to STDERR\n",
      "I0000 00:00:1715180689.383459      71 device_compiler.h:186] Compiled cluster using XLA!  This line is logged at most once for the lifetime of the process.\n",
      "W0000 00:00:1715180689.406338      71 graph_launch.cc:671] Fallback to op-by-op mode because memset node breaks graph update\n",
      "2024-05-08 15:05:14.574769: E external/local_xla/xla/service/gpu/buffer_comparator.cc:1137] Difference at 22500: 3.42686, expected 2.76726\n",
      "2024-05-08 15:05:14.574826: E external/local_xla/xla/service/gpu/buffer_comparator.cc:1137] Difference at 22503: 4.59085, expected 3.93125\n",
      "2024-05-08 15:05:14.574835: E external/local_xla/xla/service/gpu/buffer_comparator.cc:1137] Difference at 22504: 5.3512, expected 4.6916\n",
      "2024-05-08 15:05:14.574843: E external/local_xla/xla/service/gpu/buffer_comparator.cc:1137] Difference at 22509: 5.13071, expected 4.47111\n",
      "2024-05-08 15:05:14.574851: E external/local_xla/xla/service/gpu/buffer_comparator.cc:1137] Difference at 22510: 4.70016, expected 4.04055\n",
      "2024-05-08 15:05:14.574859: E external/local_xla/xla/service/gpu/buffer_comparator.cc:1137] Difference at 22511: 3.87437, expected 3.21476\n",
      "2024-05-08 15:05:14.574867: E external/local_xla/xla/service/gpu/buffer_comparator.cc:1137] Difference at 22512: 5.52854, expected 4.86894\n",
      "2024-05-08 15:05:14.574875: E external/local_xla/xla/service/gpu/buffer_comparator.cc:1137] Difference at 22513: 5.49894, expected 4.83933\n",
      "2024-05-08 15:05:14.574882: E external/local_xla/xla/service/gpu/buffer_comparator.cc:1137] Difference at 22520: 5.32033, expected 4.66072\n",
      "2024-05-08 15:05:14.574890: E external/local_xla/xla/service/gpu/buffer_comparator.cc:1137] Difference at 22525: 5.04481, expected 4.38521\n",
      "2024-05-08 15:05:14.590009: E external/local_xla/xla/service/gpu/conv_algorithm_picker.cc:705] Results mismatch between different convolution algorithms. This is likely a bug/unexpected loss of precision in cudnn.\n",
      "(f32[24,64,150,150]{3,2,1,0}, u8[0]{0}) custom-call(f32[24,3,150,150]{3,2,1,0}, f32[64,3,3,3]{3,2,1,0}, f32[64]{0}), window={size=3x3 pad=1_1x1_1}, dim_labels=bf01_oi01->bf01, custom_call_target=\"__cudnn$convBiasActivationForward\", backend_config={\"conv_result_scale\":1,\"activation_mode\":\"kRelu\",\"side_input_scale\":0,\"leakyrelu_alpha\":0} for eng20{k2=1,k4=1,k5=1,k6=0,k7=0} vs eng15{k5=1,k6=0,k7=1,k10=1}\n",
      "2024-05-08 15:05:14.590052: E external/local_xla/xla/service/gpu/conv_algorithm_picker.cc:270] Device: Tesla P100-PCIE-16GB\n",
      "2024-05-08 15:05:14.590062: E external/local_xla/xla/service/gpu/conv_algorithm_picker.cc:271] Platform: Compute Capability 6.0\n",
      "2024-05-08 15:05:14.590070: E external/local_xla/xla/service/gpu/conv_algorithm_picker.cc:272] Driver: 12020 (535.129.3)\n",
      "2024-05-08 15:05:14.590077: E external/local_xla/xla/service/gpu/conv_algorithm_picker.cc:273] Runtime: <undefined>\n",
      "2024-05-08 15:05:14.590093: E external/local_xla/xla/service/gpu/conv_algorithm_picker.cc:280] cudnn version: 8.9.0\n",
      "2024-05-08 15:05:15.011873: E external/local_xla/xla/service/gpu/buffer_comparator.cc:1137] Difference at 22500: 3.42686, expected 2.76726\n",
      "2024-05-08 15:05:15.011937: E external/local_xla/xla/service/gpu/buffer_comparator.cc:1137] Difference at 22503: 4.59085, expected 3.93125\n",
      "2024-05-08 15:05:15.011946: E external/local_xla/xla/service/gpu/buffer_comparator.cc:1137] Difference at 22504: 5.3512, expected 4.6916\n",
      "2024-05-08 15:05:15.011954: E external/local_xla/xla/service/gpu/buffer_comparator.cc:1137] Difference at 22509: 5.13071, expected 4.47111\n",
      "2024-05-08 15:05:15.011962: E external/local_xla/xla/service/gpu/buffer_comparator.cc:1137] Difference at 22510: 4.70016, expected 4.04055\n",
      "2024-05-08 15:05:15.011969: E external/local_xla/xla/service/gpu/buffer_comparator.cc:1137] Difference at 22511: 3.87437, expected 3.21476\n",
      "2024-05-08 15:05:15.011978: E external/local_xla/xla/service/gpu/buffer_comparator.cc:1137] Difference at 22512: 5.52854, expected 4.86894\n",
      "2024-05-08 15:05:15.011986: E external/local_xla/xla/service/gpu/buffer_comparator.cc:1137] Difference at 22513: 5.49894, expected 4.83933\n",
      "2024-05-08 15:05:15.011994: E external/local_xla/xla/service/gpu/buffer_comparator.cc:1137] Difference at 22520: 5.32033, expected 4.66072\n",
      "2024-05-08 15:05:15.012001: E external/local_xla/xla/service/gpu/buffer_comparator.cc:1137] Difference at 22525: 5.04481, expected 4.38521\n",
      "2024-05-08 15:05:15.027394: E external/local_xla/xla/service/gpu/conv_algorithm_picker.cc:705] Results mismatch between different convolution algorithms. This is likely a bug/unexpected loss of precision in cudnn.\n",
      "(f32[24,64,150,150]{3,2,1,0}, u8[0]{0}) custom-call(f32[24,3,150,150]{3,2,1,0}, f32[64,3,3,3]{3,2,1,0}, f32[64]{0}), window={size=3x3 pad=1_1x1_1}, dim_labels=bf01_oi01->bf01, custom_call_target=\"__cudnn$convBiasActivationForward\", backend_config={\"conv_result_scale\":1,\"activation_mode\":\"kRelu\",\"side_input_scale\":0,\"leakyrelu_alpha\":0} for eng20{k2=1,k4=1,k5=1,k6=0,k7=0} vs eng15{k5=1,k6=0,k7=1,k10=1}\n",
      "2024-05-08 15:05:15.027443: E external/local_xla/xla/service/gpu/conv_algorithm_picker.cc:270] Device: Tesla P100-PCIE-16GB\n",
      "2024-05-08 15:05:15.027452: E external/local_xla/xla/service/gpu/conv_algorithm_picker.cc:271] Platform: Compute Capability 6.0\n",
      "2024-05-08 15:05:15.027460: E external/local_xla/xla/service/gpu/conv_algorithm_picker.cc:272] Driver: 12020 (535.129.3)\n",
      "2024-05-08 15:05:15.027467: E external/local_xla/xla/service/gpu/conv_algorithm_picker.cc:273] Runtime: <undefined>\n",
      "2024-05-08 15:05:15.027484: E external/local_xla/xla/service/gpu/conv_algorithm_picker.cc:280] cudnn version: 8.9.0\n",
      "W0000 00:00:1715180730.086982      70 graph_launch.cc:671] Fallback to op-by-op mode because memset node breaks graph update\n",
      "W0000 00:00:1715180732.159259      73 graph_launch.cc:671] Fallback to op-by-op mode because memset node breaks graph update\n",
      "2024-05-08 15:05:34.408938: E external/local_xla/xla/service/gpu/buffer_comparator.cc:1137] Difference at 0: 3.84268, expected 2.84852\n",
      "2024-05-08 15:05:34.408999: E external/local_xla/xla/service/gpu/buffer_comparator.cc:1137] Difference at 1: 4.70226, expected 3.7081\n",
      "2024-05-08 15:05:34.409008: E external/local_xla/xla/service/gpu/buffer_comparator.cc:1137] Difference at 2: 5.72797, expected 4.73382\n",
      "2024-05-08 15:05:34.409016: E external/local_xla/xla/service/gpu/buffer_comparator.cc:1137] Difference at 3: 4.41828, expected 3.42413\n",
      "2024-05-08 15:05:34.409024: E external/local_xla/xla/service/gpu/buffer_comparator.cc:1137] Difference at 4: 5.44993, expected 4.45578\n",
      "2024-05-08 15:05:34.409031: E external/local_xla/xla/service/gpu/buffer_comparator.cc:1137] Difference at 5: 5.16066, expected 4.1665\n",
      "2024-05-08 15:05:34.409039: E external/local_xla/xla/service/gpu/buffer_comparator.cc:1137] Difference at 6: 5.90108, expected 4.90693\n",
      "2024-05-08 15:05:34.409046: E external/local_xla/xla/service/gpu/buffer_comparator.cc:1137] Difference at 7: 5.84479, expected 4.85063\n",
      "2024-05-08 15:05:34.409054: E external/local_xla/xla/service/gpu/buffer_comparator.cc:1137] Difference at 8: 5.85827, expected 4.86412\n",
      "2024-05-08 15:05:34.409061: E external/local_xla/xla/service/gpu/buffer_comparator.cc:1137] Difference at 9: 4.03002, expected 3.03587\n",
      "2024-05-08 15:05:34.424155: E external/local_xla/xla/service/gpu/conv_algorithm_picker.cc:705] Results mismatch between different convolution algorithms. This is likely a bug/unexpected loss of precision in cudnn.\n",
      "(f32[22,64,150,150]{3,2,1,0}, u8[0]{0}) custom-call(f32[22,3,150,150]{3,2,1,0}, f32[64,3,3,3]{3,2,1,0}, f32[64]{0}), window={size=3x3 pad=1_1x1_1}, dim_labels=bf01_oi01->bf01, custom_call_target=\"__cudnn$convBiasActivationForward\", backend_config={\"conv_result_scale\":1,\"activation_mode\":\"kRelu\",\"side_input_scale\":0,\"leakyrelu_alpha\":0} for eng20{k2=1,k4=1,k5=1,k6=0,k7=0} vs eng15{k5=1,k6=0,k7=1,k10=1}\n",
      "2024-05-08 15:05:34.424185: E external/local_xla/xla/service/gpu/conv_algorithm_picker.cc:270] Device: Tesla P100-PCIE-16GB\n",
      "2024-05-08 15:05:34.424193: E external/local_xla/xla/service/gpu/conv_algorithm_picker.cc:271] Platform: Compute Capability 6.0\n",
      "2024-05-08 15:05:34.424200: E external/local_xla/xla/service/gpu/conv_algorithm_picker.cc:272] Driver: 12020 (535.129.3)\n",
      "2024-05-08 15:05:34.424207: E external/local_xla/xla/service/gpu/conv_algorithm_picker.cc:273] Runtime: <undefined>\n",
      "2024-05-08 15:05:34.424222: E external/local_xla/xla/service/gpu/conv_algorithm_picker.cc:280] cudnn version: 8.9.0\n",
      "2024-05-08 15:05:34.780306: E external/local_xla/xla/service/gpu/buffer_comparator.cc:1137] Difference at 0: 3.84268, expected 2.84852\n",
      "2024-05-08 15:05:34.780359: E external/local_xla/xla/service/gpu/buffer_comparator.cc:1137] Difference at 1: 4.70226, expected 3.7081\n",
      "2024-05-08 15:05:34.780368: E external/local_xla/xla/service/gpu/buffer_comparator.cc:1137] Difference at 2: 5.72797, expected 4.73382\n",
      "2024-05-08 15:05:34.780376: E external/local_xla/xla/service/gpu/buffer_comparator.cc:1137] Difference at 3: 4.41828, expected 3.42413\n",
      "2024-05-08 15:05:34.780383: E external/local_xla/xla/service/gpu/buffer_comparator.cc:1137] Difference at 4: 5.44993, expected 4.45578\n",
      "2024-05-08 15:05:34.780391: E external/local_xla/xla/service/gpu/buffer_comparator.cc:1137] Difference at 5: 5.16066, expected 4.1665\n",
      "2024-05-08 15:05:34.780399: E external/local_xla/xla/service/gpu/buffer_comparator.cc:1137] Difference at 6: 5.90108, expected 4.90693\n",
      "2024-05-08 15:05:34.780406: E external/local_xla/xla/service/gpu/buffer_comparator.cc:1137] Difference at 7: 5.84479, expected 4.85063\n",
      "2024-05-08 15:05:34.780414: E external/local_xla/xla/service/gpu/buffer_comparator.cc:1137] Difference at 8: 5.85827, expected 4.86412\n",
      "2024-05-08 15:05:34.780421: E external/local_xla/xla/service/gpu/buffer_comparator.cc:1137] Difference at 9: 4.03002, expected 3.03587\n",
      "2024-05-08 15:05:34.794614: E external/local_xla/xla/service/gpu/conv_algorithm_picker.cc:705] Results mismatch between different convolution algorithms. This is likely a bug/unexpected loss of precision in cudnn.\n",
      "(f32[22,64,150,150]{3,2,1,0}, u8[0]{0}) custom-call(f32[22,3,150,150]{3,2,1,0}, f32[64,3,3,3]{3,2,1,0}, f32[64]{0}), window={size=3x3 pad=1_1x1_1}, dim_labels=bf01_oi01->bf01, custom_call_target=\"__cudnn$convBiasActivationForward\", backend_config={\"conv_result_scale\":1,\"activation_mode\":\"kRelu\",\"side_input_scale\":0,\"leakyrelu_alpha\":0} for eng20{k2=1,k4=1,k5=1,k6=0,k7=0} vs eng15{k5=1,k6=0,k7=1,k10=1}\n",
      "2024-05-08 15:05:34.794648: E external/local_xla/xla/service/gpu/conv_algorithm_picker.cc:270] Device: Tesla P100-PCIE-16GB\n",
      "2024-05-08 15:05:34.794658: E external/local_xla/xla/service/gpu/conv_algorithm_picker.cc:271] Platform: Compute Capability 6.0\n",
      "2024-05-08 15:05:34.794666: E external/local_xla/xla/service/gpu/conv_algorithm_picker.cc:272] Driver: 12020 (535.129.3)\n",
      "2024-05-08 15:05:34.794675: E external/local_xla/xla/service/gpu/conv_algorithm_picker.cc:273] Runtime: <undefined>\n",
      "2024-05-08 15:05:34.794691: E external/local_xla/xla/service/gpu/conv_algorithm_picker.cc:280] cudnn version: 8.9.0\n"
     ]
    },
    {
     "name": "stdout",
     "output_type": "stream",
     "text": [
      "223/223 - 76s - 341ms/step - accuracy: 0.8040 - loss: 3.8513 - val_accuracy: 0.8193 - val_loss: 0.4868\n",
      "Epoch 2/100\n"
     ]
    },
    {
     "name": "stderr",
     "output_type": "stream",
     "text": [
      "W0000 00:00:1715180740.292691      71 graph_launch.cc:671] Fallback to op-by-op mode because memset node breaks graph update\n"
     ]
    },
    {
     "name": "stdout",
     "output_type": "stream",
     "text": [
      "223/223 - 26s - 118ms/step - accuracy: 0.8124 - loss: 0.5063 - val_accuracy: 0.8103 - val_loss: 1.2136\n",
      "Epoch 3/100\n",
      "223/223 - 26s - 118ms/step - accuracy: 0.7779 - loss: 123.8194 - val_accuracy: 0.8193 - val_loss: 23.8859\n",
      "Epoch 4/100\n",
      "223/223 - 26s - 118ms/step - accuracy: 0.8138 - loss: 7120.8691 - val_accuracy: 0.8103 - val_loss: 263163.4688\n",
      "Epoch 5/100\n",
      "223/223 - 41s - 184ms/step - accuracy: 0.8119 - loss: 64445804.0000 - val_accuracy: 0.8103 - val_loss: 13312917.0000\n",
      "Epoch 6/100\n",
      "223/223 - 26s - 118ms/step - accuracy: 0.8107 - loss: 2356.8972 - val_accuracy: 0.8193 - val_loss: 19502.2109\n",
      "Epoch 7/100\n",
      "223/223 - 26s - 118ms/step - accuracy: 0.8110 - loss: 209887.6250 - val_accuracy: 0.8103 - val_loss: 31204020.0000\n",
      "Epoch 8/100\n",
      "223/223 - 26s - 118ms/step - accuracy: 0.8054 - loss: 13398429.0000 - val_accuracy: 0.8103 - val_loss: 1309674.0000\n",
      "Epoch 9/100\n",
      "223/223 - 26s - 118ms/step - accuracy: 0.8012 - loss: 204110912.0000 - val_accuracy: 0.8103 - val_loss: 199411040.0000\n",
      "Epoch 10/100\n",
      "223/223 - 26s - 118ms/step - accuracy: 0.7003 - loss: 491216.7812 - val_accuracy: 0.8103 - val_loss: 764048.9375\n",
      "Epoch 11/100\n",
      "223/223 - 26s - 118ms/step - accuracy: 0.7810 - loss: 215302.9062 - val_accuracy: 0.1807 - val_loss: 587710336.0000\n",
      "Epoch 12/100\n",
      "223/223 - 26s - 118ms/step - accuracy: 0.7849 - loss: 4473789.0000 - val_accuracy: 0.1807 - val_loss: 322728256.0000\n",
      "Epoch 13/100\n",
      "223/223 - 26s - 118ms/step - accuracy: 0.7788 - loss: 634934080.0000 - val_accuracy: 0.8103 - val_loss: 308823520.0000\n",
      "Epoch 14/100\n",
      "223/223 - 26s - 118ms/step - accuracy: 0.7942 - loss: 8348898.5000 - val_accuracy: 0.8103 - val_loss: 5631314.0000\n",
      "Epoch 15/100\n",
      "223/223 - 26s - 118ms/step - accuracy: 0.7953 - loss: 2081256.0000 - val_accuracy: 0.8103 - val_loss: 115572624.0000\n",
      "Epoch 16/100\n",
      "223/223 - 26s - 118ms/step - accuracy: 0.7746 - loss: 8435.5605 - val_accuracy: 0.1807 - val_loss: 7379.7280\n",
      "Epoch 17/100\n",
      "223/223 - 26s - 118ms/step - accuracy: 0.7788 - loss: 153458.5625 - val_accuracy: 0.8193 - val_loss: 3413.3057\n",
      "Epoch 18/100\n",
      "223/223 - 26s - 118ms/step - accuracy: 0.7869 - loss: 0.8108 - val_accuracy: 0.8193 - val_loss: 0.4725\n",
      "Epoch 19/100\n",
      "223/223 - 26s - 118ms/step - accuracy: 0.8140 - loss: 0.4827 - val_accuracy: 0.8193 - val_loss: 0.4728\n",
      "Epoch 20/100\n",
      "223/223 - 26s - 118ms/step - accuracy: 0.8138 - loss: 0.4813 - val_accuracy: 0.8193 - val_loss: 0.4725\n",
      "Epoch 21/100\n",
      "223/223 - 26s - 118ms/step - accuracy: 0.8138 - loss: 0.7451 - val_accuracy: 0.8193 - val_loss: 0.4726\n",
      "Epoch 22/100\n",
      "223/223 - 26s - 119ms/step - accuracy: 0.7817 - loss: 259.0406 - val_accuracy: 0.8193 - val_loss: 0.5689\n",
      "Epoch 23/100\n",
      "223/223 - 26s - 119ms/step - accuracy: 0.8085 - loss: 0.5143 - val_accuracy: 0.8193 - val_loss: 0.4725\n",
      "Epoch 24/100\n",
      "223/223 - 26s - 119ms/step - accuracy: 0.8138 - loss: 0.4816 - val_accuracy: 0.8193 - val_loss: 0.4730\n",
      "Epoch 25/100\n",
      "223/223 - 26s - 119ms/step - accuracy: 0.8138 - loss: 0.4809 - val_accuracy: 0.8193 - val_loss: 0.4729\n",
      "Epoch 26/100\n",
      "223/223 - 26s - 119ms/step - accuracy: 0.8138 - loss: 0.4817 - val_accuracy: 0.8193 - val_loss: 0.4725\n",
      "Epoch 27/100\n",
      "223/223 - 26s - 118ms/step - accuracy: 0.8138 - loss: 0.4813 - val_accuracy: 0.8193 - val_loss: 0.4728\n",
      "Epoch 28/100\n",
      "223/223 - 26s - 118ms/step - accuracy: 0.8138 - loss: 0.4810 - val_accuracy: 0.8193 - val_loss: 0.4726\n",
      "Epoch 29/100\n",
      "223/223 - 26s - 119ms/step - accuracy: 0.8138 - loss: 0.4812 - val_accuracy: 0.8193 - val_loss: 0.4727\n",
      "Epoch 30/100\n",
      "223/223 - 26s - 118ms/step - accuracy: 0.8138 - loss: 0.4816 - val_accuracy: 0.8193 - val_loss: 0.4732\n",
      "Epoch 31/100\n",
      "223/223 - 26s - 119ms/step - accuracy: 0.8138 - loss: 0.4809 - val_accuracy: 0.8193 - val_loss: 0.4725\n",
      "Epoch 32/100\n",
      "223/223 - 27s - 119ms/step - accuracy: 0.8138 - loss: 0.4818 - val_accuracy: 0.8193 - val_loss: 0.4732\n",
      "Epoch 33/100\n",
      "223/223 - 27s - 119ms/step - accuracy: 0.8138 - loss: 0.4808 - val_accuracy: 0.8193 - val_loss: 0.4728\n",
      "Epoch 34/100\n",
      "223/223 - 27s - 119ms/step - accuracy: 0.8138 - loss: 0.4809 - val_accuracy: 0.8193 - val_loss: 0.4734\n",
      "Epoch 35/100\n",
      "223/223 - 27s - 119ms/step - accuracy: 0.8138 - loss: 0.4808 - val_accuracy: 0.8193 - val_loss: 0.4738\n",
      "Epoch 36/100\n",
      "223/223 - 27s - 119ms/step - accuracy: 0.8138 - loss: 0.4816 - val_accuracy: 0.8193 - val_loss: 0.4739\n",
      "Epoch 37/100\n",
      "223/223 - 27s - 119ms/step - accuracy: 0.8138 - loss: 0.4811 - val_accuracy: 0.8193 - val_loss: 0.4727\n",
      "Epoch 38/100\n",
      "223/223 - 41s - 184ms/step - accuracy: 0.8138 - loss: 0.4809 - val_accuracy: 0.8193 - val_loss: 0.4732\n",
      "Epoch 39/100\n",
      "223/223 - 27s - 119ms/step - accuracy: 0.8138 - loss: 0.4808 - val_accuracy: 0.8193 - val_loss: 0.4730\n",
      "Epoch 40/100\n",
      "223/223 - 27s - 119ms/step - accuracy: 0.8138 - loss: 0.4809 - val_accuracy: 0.8193 - val_loss: 0.4726\n",
      "Epoch 41/100\n",
      "223/223 - 27s - 119ms/step - accuracy: 0.8138 - loss: 0.4807 - val_accuracy: 0.8193 - val_loss: 0.4730\n",
      "Epoch 42/100\n",
      "223/223 - 27s - 119ms/step - accuracy: 0.8138 - loss: 0.4808 - val_accuracy: 0.8193 - val_loss: 0.4727\n",
      "Epoch 43/100\n",
      "223/223 - 27s - 119ms/step - accuracy: 0.8138 - loss: 0.4809 - val_accuracy: 0.8193 - val_loss: 0.4724\n",
      "Epoch 44/100\n",
      "223/223 - 27s - 119ms/step - accuracy: 0.8138 - loss: 0.4809 - val_accuracy: 0.8193 - val_loss: 0.4725\n",
      "Epoch 45/100\n",
      "223/223 - 27s - 119ms/step - accuracy: 0.8138 - loss: 0.4820 - val_accuracy: 0.8193 - val_loss: 0.4738\n",
      "Epoch 46/100\n",
      "223/223 - 27s - 119ms/step - accuracy: 0.8138 - loss: 0.4812 - val_accuracy: 0.8193 - val_loss: 0.4725\n",
      "Epoch 47/100\n",
      "223/223 - 27s - 119ms/step - accuracy: 0.8138 - loss: 0.4808 - val_accuracy: 0.8193 - val_loss: 0.4726\n",
      "Epoch 48/100\n",
      "223/223 - 27s - 119ms/step - accuracy: 0.8138 - loss: 0.4810 - val_accuracy: 0.8193 - val_loss: 0.4726\n",
      "Epoch 49/100\n",
      "223/223 - 41s - 184ms/step - accuracy: 0.8138 - loss: 0.4826 - val_accuracy: 0.8193 - val_loss: 0.4726\n",
      "Epoch 50/100\n",
      "223/223 - 41s - 184ms/step - accuracy: 0.8138 - loss: 0.4809 - val_accuracy: 0.8193 - val_loss: 0.4728\n",
      "Epoch 51/100\n",
      "223/223 - 41s - 184ms/step - accuracy: 0.8138 - loss: 0.4808 - val_accuracy: 0.8193 - val_loss: 0.4726\n",
      "Epoch 52/100\n",
      "223/223 - 27s - 119ms/step - accuracy: 0.8138 - loss: 0.4810 - val_accuracy: 0.8193 - val_loss: 0.4727\n",
      "Epoch 53/100\n",
      "223/223 - 27s - 119ms/step - accuracy: 0.8138 - loss: 0.4807 - val_accuracy: 0.8193 - val_loss: 0.4725\n",
      "Epoch 54/100\n",
      "223/223 - 27s - 119ms/step - accuracy: 0.8138 - loss: 0.4809 - val_accuracy: 0.8193 - val_loss: 0.4726\n",
      "Epoch 55/100\n",
      "223/223 - 27s - 119ms/step - accuracy: 0.8138 - loss: 0.4811 - val_accuracy: 0.8193 - val_loss: 0.4736\n",
      "Epoch 56/100\n",
      "223/223 - 27s - 119ms/step - accuracy: 0.8138 - loss: 0.4810 - val_accuracy: 0.8193 - val_loss: 0.4725\n",
      "Epoch 57/100\n",
      "223/223 - 27s - 119ms/step - accuracy: 0.8138 - loss: 0.4807 - val_accuracy: 0.8193 - val_loss: 0.4729\n",
      "Epoch 58/100\n",
      "223/223 - 27s - 119ms/step - accuracy: 0.8138 - loss: 0.4809 - val_accuracy: 0.8193 - val_loss: 0.4733\n",
      "Epoch 59/100\n",
      "223/223 - 27s - 119ms/step - accuracy: 0.8138 - loss: 0.4809 - val_accuracy: 0.8193 - val_loss: 0.4725\n",
      "Epoch 60/100\n",
      "223/223 - 27s - 119ms/step - accuracy: 0.8138 - loss: 0.4809 - val_accuracy: 0.8193 - val_loss: 0.4725\n",
      "Epoch 61/100\n",
      "223/223 - 27s - 119ms/step - accuracy: 0.8138 - loss: 0.4821 - val_accuracy: 0.8193 - val_loss: 0.4727\n",
      "Epoch 62/100\n",
      "223/223 - 41s - 184ms/step - accuracy: 0.8107 - loss: 0.4891 - val_accuracy: 0.8193 - val_loss: 0.4733\n",
      "Epoch 63/100\n",
      "223/223 - 26s - 118ms/step - accuracy: 0.8138 - loss: 0.4812 - val_accuracy: 0.8193 - val_loss: 0.4725\n",
      "Epoch 64/100\n",
      "223/223 - 26s - 119ms/step - accuracy: 0.8138 - loss: 0.4810 - val_accuracy: 0.8193 - val_loss: 0.4726\n",
      "Epoch 65/100\n",
      "223/223 - 41s - 184ms/step - accuracy: 0.8138 - loss: 0.4811 - val_accuracy: 0.8193 - val_loss: 0.4725\n",
      "Epoch 66/100\n",
      "223/223 - 41s - 184ms/step - accuracy: 0.8138 - loss: 0.4811 - val_accuracy: 0.8193 - val_loss: 0.4730\n",
      "Epoch 67/100\n",
      "223/223 - 26s - 119ms/step - accuracy: 0.8138 - loss: 0.4809 - val_accuracy: 0.8193 - val_loss: 0.4725\n",
      "Epoch 68/100\n",
      "223/223 - 26s - 119ms/step - accuracy: 0.8138 - loss: 0.4808 - val_accuracy: 0.8193 - val_loss: 0.4726\n",
      "Epoch 69/100\n",
      "223/223 - 41s - 184ms/step - accuracy: 0.8138 - loss: 0.4812 - val_accuracy: 0.8193 - val_loss: 0.4726\n",
      "Epoch 70/100\n",
      "223/223 - 41s - 184ms/step - accuracy: 0.8138 - loss: 0.4809 - val_accuracy: 0.8193 - val_loss: 0.4731\n",
      "Epoch 71/100\n",
      "223/223 - 26s - 119ms/step - accuracy: 0.8138 - loss: 0.4807 - val_accuracy: 0.8193 - val_loss: 0.4726\n",
      "Epoch 72/100\n",
      "223/223 - 26s - 119ms/step - accuracy: 0.8138 - loss: 0.4809 - val_accuracy: 0.8193 - val_loss: 0.4731\n",
      "Epoch 73/100\n",
      "223/223 - 26s - 119ms/step - accuracy: 0.8138 - loss: 0.4810 - val_accuracy: 0.8193 - val_loss: 0.4727\n",
      "Epoch 74/100\n",
      "223/223 - 26s - 119ms/step - accuracy: 0.8138 - loss: 0.4808 - val_accuracy: 0.8193 - val_loss: 0.4725\n",
      "Epoch 75/100\n",
      "223/223 - 26s - 119ms/step - accuracy: 0.8138 - loss: 0.4809 - val_accuracy: 0.8193 - val_loss: 0.4727\n",
      "Epoch 76/100\n",
      "223/223 - 26s - 118ms/step - accuracy: 0.8138 - loss: 0.4810 - val_accuracy: 0.8193 - val_loss: 0.4729\n",
      "Epoch 77/100\n",
      "223/223 - 26s - 119ms/step - accuracy: 0.8138 - loss: 0.4806 - val_accuracy: 0.8193 - val_loss: 0.4726\n",
      "Epoch 78/100\n",
      "223/223 - 26s - 119ms/step - accuracy: 0.8138 - loss: 0.4808 - val_accuracy: 0.8193 - val_loss: 0.4730\n",
      "Epoch 79/100\n",
      "223/223 - 41s - 184ms/step - accuracy: 0.8138 - loss: 0.4808 - val_accuracy: 0.8193 - val_loss: 0.4725\n",
      "Epoch 80/100\n",
      "223/223 - 41s - 183ms/step - accuracy: 0.8138 - loss: 0.4808 - val_accuracy: 0.8193 - val_loss: 0.4726\n",
      "Epoch 81/100\n",
      "223/223 - 41s - 184ms/step - accuracy: 0.8138 - loss: 0.4809 - val_accuracy: 0.8193 - val_loss: 0.4725\n",
      "Epoch 82/100\n",
      "223/223 - 41s - 184ms/step - accuracy: 0.8138 - loss: 0.4807 - val_accuracy: 0.8193 - val_loss: 0.4724\n",
      "Epoch 83/100\n",
      "223/223 - 41s - 184ms/step - accuracy: 0.8138 - loss: 0.4807 - val_accuracy: 0.8193 - val_loss: 0.4728\n",
      "Epoch 84/100\n",
      "223/223 - 41s - 184ms/step - accuracy: 0.8138 - loss: 0.4809 - val_accuracy: 0.8193 - val_loss: 0.4724\n",
      "Epoch 85/100\n",
      "223/223 - 26s - 118ms/step - accuracy: 0.8138 - loss: 0.4808 - val_accuracy: 0.8193 - val_loss: 0.4727\n",
      "Epoch 86/100\n",
      "223/223 - 26s - 119ms/step - accuracy: 0.8113 - loss: 0.4822 - val_accuracy: 0.8193 - val_loss: 0.5101\n",
      "Epoch 87/100\n",
      "223/223 - 26s - 118ms/step - accuracy: 0.8138 - loss: 0.4823 - val_accuracy: 0.8193 - val_loss: 0.4728\n",
      "Epoch 88/100\n",
      "223/223 - 26s - 119ms/step - accuracy: 0.8138 - loss: 0.4808 - val_accuracy: 0.8193 - val_loss: 0.4735\n",
      "Epoch 89/100\n",
      "223/223 - 26s - 118ms/step - accuracy: 0.8138 - loss: 0.4811 - val_accuracy: 0.8193 - val_loss: 0.4725\n",
      "Epoch 90/100\n",
      "223/223 - 26s - 118ms/step - accuracy: 0.8138 - loss: 0.4810 - val_accuracy: 0.8193 - val_loss: 0.4726\n",
      "Epoch 91/100\n",
      "223/223 - 26s - 119ms/step - accuracy: 0.8138 - loss: 0.4808 - val_accuracy: 0.8193 - val_loss: 0.4725\n",
      "Epoch 92/100\n",
      "223/223 - 26s - 119ms/step - accuracy: 0.8138 - loss: 0.4808 - val_accuracy: 0.8193 - val_loss: 0.4726\n",
      "Epoch 93/100\n",
      "223/223 - 41s - 184ms/step - accuracy: 0.8138 - loss: 0.4810 - val_accuracy: 0.8193 - val_loss: 0.4725\n",
      "Epoch 94/100\n",
      "223/223 - 26s - 119ms/step - accuracy: 0.8138 - loss: 0.4808 - val_accuracy: 0.8193 - val_loss: 0.4726\n",
      "Epoch 95/100\n",
      "223/223 - 26s - 119ms/step - accuracy: 0.8138 - loss: 0.4808 - val_accuracy: 0.8193 - val_loss: 0.4725\n",
      "Epoch 96/100\n",
      "223/223 - 26s - 118ms/step - accuracy: 0.8138 - loss: 0.4807 - val_accuracy: 0.8193 - val_loss: 0.4726\n",
      "Epoch 97/100\n",
      "223/223 - 26s - 118ms/step - accuracy: 0.8138 - loss: 0.4808 - val_accuracy: 0.8193 - val_loss: 0.4728\n",
      "Epoch 98/100\n",
      "223/223 - 41s - 184ms/step - accuracy: 0.8138 - loss: 0.4808 - val_accuracy: 0.8193 - val_loss: 0.4726\n",
      "Epoch 99/100\n",
      "223/223 - 41s - 184ms/step - accuracy: 0.8138 - loss: 0.4807 - val_accuracy: 0.8193 - val_loss: 0.4725\n",
      "Epoch 100/100\n",
      "223/223 - 26s - 119ms/step - accuracy: 0.8138 - loss: 0.4809 - val_accuracy: 0.8193 - val_loss: 0.4725\n"
     ]
    }
   ],
   "source": [
    "hist = model.fit(train_x, train_y, epochs=100,validation_split=0.2, verbose=2)"
   ]
  },
  {
   "cell_type": "code",
   "execution_count": 2,
   "id": "666ec8a9",
   "metadata": {
    "execution": {
     "iopub.execute_input": "2024-05-08T15:53:54.682422Z",
     "iopub.status.busy": "2024-05-08T15:53:54.682099Z",
     "iopub.status.idle": "2024-05-08T15:54:05.469185Z",
     "shell.execute_reply": "2024-05-08T15:54:05.468000Z"
    },
    "papermill": {
     "duration": 10.813284,
     "end_time": "2024-05-08T15:54:05.471407",
     "exception": false,
     "start_time": "2024-05-08T15:53:54.658123",
     "status": "completed"
    },
    "tags": []
   },
   "outputs": [
    {
     "ename": "NameError",
     "evalue": "name 'model' is not defined",
     "output_type": "error",
     "traceback": [
      "\u001b[1;31m---------------------------------------------------------------------------\u001b[0m",
      "\u001b[1;31mNameError\u001b[0m                                 Traceback (most recent call last)",
      "Cell \u001b[1;32mIn[2], line 3\u001b[0m\n\u001b[0;32m      1\u001b[0m \u001b[38;5;28;01mfrom\u001b[39;00m \u001b[38;5;21;01msklearn\u001b[39;00m\u001b[38;5;21;01m.\u001b[39;00m\u001b[38;5;21;01mmetrics\u001b[39;00m \u001b[38;5;28;01mimport\u001b[39;00m confusion_matrix\n\u001b[0;32m      2\u001b[0m \u001b[38;5;66;03m#Predictions on the test set\u001b[39;00m\n\u001b[1;32m----> 3\u001b[0m pred_y \u001b[38;5;241m=\u001b[39m \u001b[43mmodel\u001b[49m\u001b[38;5;241m.\u001b[39mpredict(test_x)\n",
      "\u001b[1;31mNameError\u001b[0m: name 'model' is not defined"
     ]
    }
   ],
   "source": [
    "from sklearn.metrics import confusion_matrix\n",
    "#Predictions on the test set\n",
    "pred_y = model.predict(test_x)"
   ]
  },
  {
   "cell_type": "code",
   "execution_count": 18,
   "id": "c120e8a2",
   "metadata": {
    "execution": {
     "iopub.execute_input": "2024-05-08T15:54:05.527140Z",
     "iopub.status.busy": "2024-05-08T15:54:05.526244Z",
     "iopub.status.idle": "2024-05-08T15:54:10.011713Z",
     "shell.execute_reply": "2024-05-08T15:54:10.010777Z"
    },
    "papermill": {
     "duration": 4.515551,
     "end_time": "2024-05-08T15:54:10.014159",
     "exception": false,
     "start_time": "2024-05-08T15:54:05.498608",
     "status": "completed"
    },
    "tags": []
   },
   "outputs": [
    {
     "name": "stdout",
     "output_type": "stream",
     "text": [
      "\u001b[1m70/70\u001b[0m \u001b[32m━━━━━━━━━━━━━━━━━━━━\u001b[0m\u001b[37m\u001b[0m \u001b[1m3s\u001b[0m 43ms/step - accuracy: 0.8282 - loss: 0.4593\n",
      "Loss = 0.4681669771671295\n",
      "Test Accuracy = 0.8222621083259583\n"
     ]
    },
    {
     "name": "stderr",
     "output_type": "stream",
     "text": [
      "W0000 00:00:1715183649.939916      72 graph_launch.cc:671] Fallback to op-by-op mode because memset node breaks graph update\n"
     ]
    }
   ],
   "source": [
    "preds = model.evaluate(test_x, test_y)\n",
    "print (\"Loss = \" + str(preds[0]))\n",
    "print (\"Test Accuracy = \" + str(preds[1]))"
   ]
  },
  {
   "cell_type": "code",
   "execution_count": 19,
   "id": "38ce4fad",
   "metadata": {
    "execution": {
     "iopub.execute_input": "2024-05-08T15:54:10.076099Z",
     "iopub.status.busy": "2024-05-08T15:54:10.075792Z",
     "iopub.status.idle": "2024-05-08T15:54:10.092218Z",
     "shell.execute_reply": "2024-05-08T15:54:10.091330Z"
    },
    "papermill": {
     "duration": 0.050297,
     "end_time": "2024-05-08T15:54:10.094376",
     "exception": false,
     "start_time": "2024-05-08T15:54:10.044079",
     "status": "completed"
    },
    "tags": []
   },
   "outputs": [
    {
     "name": "stdout",
     "output_type": "stream",
     "text": [
      "Precision: 0.676114991506822\n",
      "Recall: 0.822262118491921\n",
      "F1 Score: 0.7420611827966499\n"
     ]
    },
    {
     "name": "stderr",
     "output_type": "stream",
     "text": [
      "/opt/conda/lib/python3.10/site-packages/sklearn/metrics/_classification.py:1344: UndefinedMetricWarning: Precision is ill-defined and being set to 0.0 in labels with no predicted samples. Use `zero_division` parameter to control this behavior.\n",
      "  _warn_prf(average, modifier, msg_start, len(result))\n"
     ]
    }
   ],
   "source": [
    "from sklearn.metrics import precision_score, recall_score, f1_score\n",
    "precision = precision_score(test_y.argmax(axis=1), pred_y.argmax(axis=1), average='weighted')\n",
    "recall = recall_score(test_y.argmax(axis=1),pred_y.argmax(axis=1), average='weighted')\n",
    "f1 = f1_score(test_y.argmax(axis=1),pred_y.argmax(axis=1), average='weighted')\n",
    "print(\"Precision:\", precision)\n",
    "print(\"Recall:\", recall)\n",
    "print(\"F1 Score:\", f1)"
   ]
  },
  {
   "cell_type": "code",
   "execution_count": 20,
   "id": "90f8e034",
   "metadata": {
    "execution": {
     "iopub.execute_input": "2024-05-08T15:54:10.155835Z",
     "iopub.status.busy": "2024-05-08T15:54:10.155532Z",
     "iopub.status.idle": "2024-05-08T15:54:10.161989Z",
     "shell.execute_reply": "2024-05-08T15:54:10.161164Z"
    },
    "papermill": {
     "duration": 0.039409,
     "end_time": "2024-05-08T15:54:10.163868",
     "exception": false,
     "start_time": "2024-05-08T15:54:10.124459",
     "status": "completed"
    },
    "tags": []
   },
   "outputs": [
    {
     "name": "stdout",
     "output_type": "stream",
     "text": [
      "Confusion Matrix:\n",
      "[[1832    0]\n",
      " [ 396    0]]\n"
     ]
    }
   ],
   "source": [
    "cm = confusion_matrix(test_y.argmax(axis=1), pred_y.argmax(axis=1))\n",
    "\n",
    "print(\"Confusion Matrix:\")\n",
    "print(cm)"
   ]
  },
  {
   "cell_type": "code",
   "execution_count": 21,
   "id": "6c910683",
   "metadata": {
    "execution": {
     "iopub.execute_input": "2024-05-08T15:54:10.226833Z",
     "iopub.status.busy": "2024-05-08T15:54:10.226128Z",
     "iopub.status.idle": "2024-05-08T15:54:10.555538Z",
     "shell.execute_reply": "2024-05-08T15:54:10.554562Z"
    },
    "papermill": {
     "duration": 0.362726,
     "end_time": "2024-05-08T15:54:10.557673",
     "exception": false,
     "start_time": "2024-05-08T15:54:10.194947",
     "status": "completed"
    },
    "tags": []
   },
   "outputs": [
    {
     "data": {
      "image/png": "[encoded data removed]",
      "text/plain": [
       "<Figure size 800x600 with 1 Axes>"
      ]
     },
     "metadata": {},
     "output_type": "display_data"
    }
   ],
   "source": [
    "# Plot the training and validation loss at each epoch\n",
    "loss = hist.history['loss']\n",
    "val_loss = hist.history['val_loss']\n",
    "epochs = range(1, len(loss) + 1)\n",
    "plt.figure(figsize=(8, 6))  \n",
    "plt.plot(epochs, loss, 'y', label='Training Loss')\n",
    "plt.plot(epochs, val_loss, 'r', label='Validation Loss')\n",
    "plt.title('Loss Curve (Training and validation loss)')\n",
    "plt.xlabel('Epochs')\n",
    "plt.ylabel('Loss')\n",
    "plt.legend()\n",
    "plt.show()"
   ]
  },
  {
   "cell_type": "code",
   "execution_count": 22,
   "id": "9162929a",
   "metadata": {
    "execution": {
     "iopub.execute_input": "2024-05-08T15:54:10.620845Z",
     "iopub.status.busy": "2024-05-08T15:54:10.620559Z",
     "iopub.status.idle": "2024-05-08T15:54:10.925829Z",
     "shell.execute_reply": "2024-05-08T15:54:10.924868Z"
    },
    "papermill": {
     "duration": 0.339643,
     "end_time": "2024-05-08T15:54:10.928282",
     "exception": false,
     "start_time": "2024-05-08T15:54:10.588639",
     "status": "completed"
    },
    "tags": []
   },
   "outputs": [
    {
     "data": {
      "image/png": "[encoded data removed]",
      "text/plain": [
       "<Figure size 800x600 with 1 Axes>"
      ]
     },
     "metadata": {},
     "output_type": "display_data"
    }
   ],
   "source": [
    "# Plot the training and validation accuracy at each epoch\n",
    "acc = hist.history['accuracy']\n",
    "val_acc = hist.history['val_accuracy']\n",
    "plt.figure(figsize=(8, 6))\n",
    "plt.plot(epochs, acc, 'y', label='Training Accuracy')\n",
    "plt.plot(epochs, val_acc, 'r', label='Validation Accuracy')\n",
    "plt.title('Training and validation accuracy')\n",
    "plt.xlabel('Epochs')\n",
    "plt.ylabel('Accuracy')\n",
    "plt.legend()\n",
    "plt.show()"
   ]
  }
 ],
 "metadata": {
  "kaggle": {
   "accelerator": "gpu",
   "dataSources": [
    {
     "databundleVersionId": 7469972,
     "sourceId": 59093,
     "sourceType": "competition"
    }
   ],
   "dockerImageVersionId": 30698,
   "isGpuEnabled": true,
   "isInternetEnabled": true,
   "language": "python",
   "sourceType": "notebook"
  },
  "kernelspec": {
   "display_name": "Python 3",
   "language": "python",
   "name": "python3"
  },
  "language_info": {
   "codemirror_mode": {
    "name": "ipython",
    "version": 3
   },
   "file_extension": ".py",
   "mimetype": "text/x-python",
   "name": "python",
   "nbconvert_exporter": "python",
   "pygments_lexer": "ipython3",
   "version": "3.12.3"
  },
  "papermill": {
   "default_parameters": {},
   "duration": 3528.582085,
   "end_time": "2024-05-08T15:54:13.772105",
   "environment_variables": {},
   "exception": null,
   "input_path": "__notebook__.ipynb",
   "output_path": "__notebook__.ipynb",
   "parameters": {},
   "start_time": "2024-05-08T14:55:25.190020",
   "version": "2.5.0"
  }
 },
 "nbformat": 4,
 "nbformat_minor": 5
}
